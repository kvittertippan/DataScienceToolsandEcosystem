{
 "cells": [
  {
   "cell_type": "markdown",
   "id": "14695adc-9e0d-4f1d-ac70-a99594ec1901",
   "metadata": {},
   "source": [
    "# Data Science Tools and Ecosystem"
   ]
  },
  {
   "cell_type": "markdown",
   "id": "2412ff09-2779-43ba-8eb1-543117c8e7f8",
   "metadata": {},
   "source": [
    "In this notebook, Data Science Tools and Ecosystem are summarized."
   ]
  },
  {
   "cell_type": "markdown",
   "id": "b405070a-4365-479d-b5c0-85822155d14d",
   "metadata": {},
   "source": [
    "\n",
    "# Author\n",
    "Emma Lea"
   ]
  },
  {
   "cell_type": "markdown",
   "id": "38e8adfd-70b2-45c0-b90e-3f2b8179bdc5",
   "metadata": {},
   "source": [
    "**Objectives**\n",
    "- Workflow for data science\n",
    "- Free open source tools for data science\n",
    "- Open source data libraries available online"
   ]
  },
  {
   "cell_type": "markdown",
   "id": "9665bd8b-911f-4d04-8d55-eb8e381bd980",
   "metadata": {},
   "source": [
    "Some of the popular languages that Data Scientists use are:\n",
    "1. Python\n",
    "2. R\n",
    "3. Scala\n",
    "4. Java\n",
    "5. Julia\n",
    "6. C++"
   ]
  },
  {
   "cell_type": "markdown",
   "id": "aa819e05-1510-46a0-b77b-6d573fb6e67b",
   "metadata": {},
   "source": [
    "Some of the libraries commonly used by Data Scientists are:\n",
    "1. Pandas\n",
    "2. NumPy\n",
    "3. Matplotlib\n",
    "4. Seaborn\n",
    "5. Plotly\n",
    "6. Scikit-learn\n",
    "7. Tensorflow\n",
    "8. Keras\n",
    "9. NLTK\n",
    "10. Beautiful Soup\n",
    "\n"
   ]
  },
  {
   "cell_type": "markdown",
   "id": "dcb98698-75eb-45a5-980e-b9d0b0a8757e",
   "metadata": {
    "tags": []
   },
   "source": [
    "|Data Science Tools|\n",
    "|------|\n",
    "|Jupyter Notebook|\n",
    "|Spyder|\n",
    "|Visual Studio Code|\n"
   ]
  },
  {
   "cell_type": "markdown",
   "id": "9950313a-ba9f-49f8-94ee-b22f5bb04c0d",
   "metadata": {},
   "source": [
    "### Below are a few examples of evaluating arithmetic expressions in Python"
   ]
  },
  {
   "cell_type": "code",
   "execution_count": 3,
   "id": "bd0065a6-b6e7-435b-83b0-57240a3fa249",
   "metadata": {
    "tags": []
   },
   "outputs": [
    {
     "data": {
      "text/plain": [
       "17"
      ]
     },
     "execution_count": 3,
     "metadata": {},
     "output_type": "execute_result"
    }
   ],
   "source": [
    "# this is a simple arithmethic expression to multiply then add integers\n",
    "\n",
    "(3*4)+5\n"
   ]
  },
  {
   "cell_type": "code",
   "execution_count": 4,
   "id": "5390c3b7-46ca-44d2-80b4-f1a32bbd6f37",
   "metadata": {
    "tags": []
   },
   "outputs": [
    {
     "data": {
      "text/plain": [
       "3.3333333333333335"
      ]
     },
     "execution_count": 4,
     "metadata": {},
     "output_type": "execute_result"
    }
   ],
   "source": [
    "# this will convert 200 minutes to hours by dividing by 60\n",
    "\n",
    "200/60"
   ]
  },
  {
   "cell_type": "code",
   "execution_count": null,
   "id": "80329faf-a10a-4c04-a938-7d78704043cf",
   "metadata": {},
   "outputs": [],
   "source": []
  }
 ],
 "metadata": {
  "kernelspec": {
   "display_name": "Python",
   "language": "python",
   "name": "conda-env-python-py"
  },
  "language_info": {
   "codemirror_mode": {
    "name": "ipython",
    "version": 3
   },
   "file_extension": ".py",
   "mimetype": "text/x-python",
   "name": "python",
   "nbconvert_exporter": "python",
   "pygments_lexer": "ipython3",
   "version": "3.7.12"
  }
 },
 "nbformat": 4,
 "nbformat_minor": 5
}
